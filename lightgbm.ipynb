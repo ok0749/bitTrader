{
 "cells": [
  {
   "cell_type": "code",
   "execution_count": 5,
   "id": "minute-conspiracy",
   "metadata": {},
   "outputs": [],
   "source": [
    "import numpy as np\n",
    "import pandas as pd\n",
    "import matplotlib.pyplot as plt\n",
    "import seaborn as sns\n",
    "sns.set()\n",
    "from warnings import filterwarnings\n",
    "filterwarnings('ignore')\n",
    "from tqdm import tqdm\n",
    "plt.rcParams['figure.figsize'] = (10, 7)\n",
    "plt.rcParams['font.family'] = 'AppleGothic'\n",
    "plt.rcParams['axes.unicode_minus'] = False\n",
    "\n",
    "from lightgbm import LGBMRegressor\n",
    "from sklearn.multioutput import MultiOutputRegressor"
   ]
  },
  {
   "cell_type": "markdown",
   "metadata": {},
   "source": [
    "# 데이터 불러오기"
   ]
  },
  {
   "cell_type": "code",
   "execution_count": 3,
   "id": "bright-thong",
   "metadata": {},
   "outputs": [],
   "source": [
    "train_x = pd.read_csv('./data/train_x_df.csv')\n",
    "test_x = pd.read_csv('./data/test_x_df.csv')\n",
    "train_y = pd.read_csv('./data/train_y_df.csv')"
   ]
  },
  {
   "cell_type": "markdown",
   "metadata": {},
   "source": [
    "# 데이터 전처리"
   ]
  },
  {
   "cell_type": "code",
   "execution_count": 4,
   "id": "challenging-radiation",
   "metadata": {},
   "outputs": [],
   "source": [
    "# 2차원 데이터를 3차원 데이터(sample_id, time, open)로 변환\n",
    "x_train_open = pd.crosstab(index=train_x['sample_id'], columns=train_x['time'], values=train_x['open'], aggfunc='sum')\n",
    "y_train_open = pd.crosstab(index=train_y['sample_id'], columns=train_y['time'], values=train_y['open'], aggfunc='sum')\n",
    "x_test_open = pd.crosstab(index=test_x['sample_id'], columns=test_x['time'], values=test_x['open'], aggfunc='sum')"
   ]
  },
  {
   "cell_type": "markdown",
   "metadata": {},
   "source": [
    "# 학습 및 예측\n",
    "- 0 ~ 1379분의 시가를 학습 시켜 미래 0 ~ 119분의 시가를 예측합니다.\n",
    "- 시가 외의 다른 특성을 추가하여 학습 해봤지만 오히려 성능이 떨어졌습니다.\n",
    "- 여러 모델들을 사용한 결과 LGBMRegressor 모델이 가장 성능이 좋았고 파라미터 값을 바꾸면서 학습을 해봤지만 default 값에서 가장 성능이 좋았습니다.\n",
    "- LGBMRegressor는 여러 개의 특성을 예측할 수 없기에 MultiOutputRegressor를 통해 학습시켰습니다.\n",
    "- buy_quantity는 최초에는 예측 최대값이 1보다 클 때 전량 매수 했으나, 모든 경우에 대해 전량 매수할 때 결과가 더 좋게 나왔습니다."
   ]
  },
  {
   "cell_type": "code",
   "execution_count": 10,
   "metadata": {},
   "outputs": [],
   "source": [
    "model_lgbm = MultiOutputRegressor(LGBMRegressor())\n",
    "model_lgbm.fit(x_train_open, y_train_open)\n",
    "pred = model_lgbm.predict(x_test_open)"
   ]
  },
  {
   "cell_type": "code",
   "execution_count": 11,
   "metadata": {},
   "outputs": [
    {
     "output_type": "execute_result",
     "data": {
      "text/plain": "(535, 120)"
     },
     "metadata": {},
     "execution_count": 11
    }
   ],
   "source": [
    "pred.shape"
   ]
  },
  {
   "cell_type": "markdown",
   "metadata": {},
   "source": [
    "# 제출용 데이터프레임 생성"
   ]
  },
  {
   "cell_type": "code",
   "execution_count": 13,
   "id": "excessive-submission",
   "metadata": {},
   "outputs": [
    {
     "output_type": "execute_result",
     "data": {
      "text/plain": "     sample_id  buy_quantity  sell_time\n0         7661             1         44\n1         7662             1         71\n2         7663             1        101\n3         7664             1         87\n4         7665             1        107\n..         ...           ...        ...\n530       8191             1         91\n531       8192             1        117\n532       8193             1         87\n533       8194             1        101\n534       8195             1        105\n\n[535 rows x 3 columns]",
      "text/html": "<div>\n<style scoped>\n    .dataframe tbody tr th:only-of-type {\n        vertical-align: middle;\n    }\n\n    .dataframe tbody tr th {\n        vertical-align: top;\n    }\n\n    .dataframe thead th {\n        text-align: right;\n    }\n</style>\n<table border=\"1\" class=\"dataframe\">\n  <thead>\n    <tr style=\"text-align: right;\">\n      <th></th>\n      <th>sample_id</th>\n      <th>buy_quantity</th>\n      <th>sell_time</th>\n    </tr>\n  </thead>\n  <tbody>\n    <tr>\n      <th>0</th>\n      <td>7661</td>\n      <td>1</td>\n      <td>44</td>\n    </tr>\n    <tr>\n      <th>1</th>\n      <td>7662</td>\n      <td>1</td>\n      <td>71</td>\n    </tr>\n    <tr>\n      <th>2</th>\n      <td>7663</td>\n      <td>1</td>\n      <td>101</td>\n    </tr>\n    <tr>\n      <th>3</th>\n      <td>7664</td>\n      <td>1</td>\n      <td>87</td>\n    </tr>\n    <tr>\n      <th>4</th>\n      <td>7665</td>\n      <td>1</td>\n      <td>107</td>\n    </tr>\n    <tr>\n      <th>...</th>\n      <td>...</td>\n      <td>...</td>\n      <td>...</td>\n    </tr>\n    <tr>\n      <th>530</th>\n      <td>8191</td>\n      <td>1</td>\n      <td>91</td>\n    </tr>\n    <tr>\n      <th>531</th>\n      <td>8192</td>\n      <td>1</td>\n      <td>117</td>\n    </tr>\n    <tr>\n      <th>532</th>\n      <td>8193</td>\n      <td>1</td>\n      <td>87</td>\n    </tr>\n    <tr>\n      <th>533</th>\n      <td>8194</td>\n      <td>1</td>\n      <td>101</td>\n    </tr>\n    <tr>\n      <th>534</th>\n      <td>8195</td>\n      <td>1</td>\n      <td>105</td>\n    </tr>\n  </tbody>\n</table>\n<p>535 rows × 3 columns</p>\n</div>"
     },
     "metadata": {},
     "execution_count": 13
    }
   ],
   "source": [
    "submission = pd.DataFrame()\n",
    "submission['sample_id'] = range(x_train_open.shape[0], x_train_open.shape[0]+x_test_open.shape[0])\n",
    "submission['buy_quantity'] = 1\n",
    "submission['sell_time'] = np.argmax(pred, axis=1)\n",
    "submission"
   ]
  },
  {
   "cell_type": "code",
   "execution_count": 14,
   "metadata": {},
   "outputs": [],
   "source": [
    "# submission.to_csv('submission_lightgbm.csv', index=False)"
   ]
  }
 ],
 "metadata": {
  "kernelspec": {
   "display_name": "Python 3",
   "language": "python",
   "name": "python3"
  },
  "language_info": {
   "codemirror_mode": {
    "name": "ipython",
    "version": 3
   },
   "file_extension": ".py",
   "mimetype": "text/x-python",
   "name": "python",
   "nbconvert_exporter": "python",
   "pygments_lexer": "ipython3",
   "version": "3.9.5-final"
  }
 },
 "nbformat": 4,
 "nbformat_minor": 5
}