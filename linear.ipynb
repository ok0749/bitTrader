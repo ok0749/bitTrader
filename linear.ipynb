{
 "cells": [
  {
   "cell_type": "code",
   "execution_count": 17,
   "id": "differential-equality",
   "metadata": {},
   "outputs": [],
   "source": [
    "import pandas as pd\n",
    "import numpy as np\n",
    "from tqdm import tqdm\n",
    "import time\n",
    "from sklearn.linear_model import LinearRegression\n",
    "from sklearn.ensemble import BaggingRegressor\n",
    "from joblib import dump"
   ]
  },
  {
   "cell_type": "markdown",
   "metadata": {},
   "source": [
    "# 데이터 불러오기"
   ]
  },
  {
   "cell_type": "code",
   "execution_count": 18,
   "id": "orange-identity",
   "metadata": {},
   "outputs": [],
   "source": [
    "train_x = pd.read_csv('./data/train_x_df.csv')\n",
    "test_x = pd.read_csv('./data/test_x_df.csv')\n",
    "train_y = pd.read_csv('./data/train_y_df.csv')"
   ]
  },
  {
   "cell_type": "markdown",
   "metadata": {},
   "source": [
    "# 데이터 전처리\n",
    "- 과거 1260분 데이터로 미래 1분을 예측하도록 하여 샘플당 120개의 행을 가지도록 전처리하여 학습 시키려 했으나 메모리 문제로 1320분 데이터로 2분을 예측하도록 했습니다.\n",
    "- 과거 1320분 데이터로 미래 2분을 예측하도록 각 샘플의 x, y 데이터를 변환합니다. \n",
    "- ex) 0 ~ 1319분으로 0 ~ 1분 예측, 1 ~ 1320분으로 2 ~ 3분 예측, ...\n",
    "- x: (1, 1380) -> (60, 1320)\n",
    "- y: (1, 120) -> (60, 2)"
   ]
  },
  {
   "cell_type": "code",
   "execution_count": 30,
   "id": "vital-packing",
   "metadata": {},
   "outputs": [],
   "source": [
    "# train 데이터셋을 변환하는 함수\n",
    "def trans_train_dataset(x_df, y_df):\n",
    "    # 샘플의 개수\n",
    "    sample_cnt = train_x['sample_id'].nunique()\n",
    "    # 행의 개수\n",
    "    rows = 60\n",
    "    # 열의 개수\n",
    "    columns = 1320\n",
    "    # 2분 예측\n",
    "    pred_minutes = 2\n",
    "\n",
    "    x = pd.DataFrame(np.zeros([rows * sample_cnt, columns]))\n",
    "    y = pd.DataFrame(np.zeros([rows * sample_cnt, pred_minutes])) \n",
    "    \n",
    "    # 샘플 개수 만큼 실행\n",
    "    for sample_id in tqdm(range(sample_cnt)):\n",
    "        tmp = x_df.query(f'sample_id == {sample_id}')\n",
    "        # 행의 개수 만큼 실행\n",
    "        for i in range(rows):  \n",
    "            x.iloc[sample_id*rows + i] = tmp.iloc[i:i+columns]['open'].values\n",
    "        y.iloc[sample_id*rows:sample_id*rows+rows, :] = np.array(y_df.query(f'sample_id == {sample_id}')['open']).reshape(rows, -1)\n",
    "    \n",
    "    return x, y"
   ]
  },
  {
   "cell_type": "code",
   "execution_count": 31,
   "id": "molecular-virtue",
   "metadata": {},
   "outputs": [
    {
     "output_type": "stream",
     "name": "stderr",
     "text": "100%|██████████| 7661/7661 [15:00<00:00,  8.51it/s]\n"
    }
   ],
   "source": [
    "x_train, y_train = trans_train_dataset(train_x, train_y)"
   ]
  },
  {
   "cell_type": "code",
   "execution_count": 32,
   "id": "graphic-trust",
   "metadata": {},
   "outputs": [
    {
     "output_type": "execute_result",
     "data": {
      "text/plain": "((459660, 1320), (459660, 2))"
     },
     "metadata": {},
     "execution_count": 32
    }
   ],
   "source": [
    "x_train.shape, y_train.shape"
   ]
  },
  {
   "cell_type": "code",
   "execution_count": 33,
   "metadata": {},
   "outputs": [
    {
     "output_type": "execute_result",
     "data": {
      "text/plain": "535"
     },
     "metadata": {},
     "execution_count": 33
    }
   ],
   "source": [
    "test_x['sample_id'].nunique()"
   ]
  },
  {
   "cell_type": "code",
   "execution_count": 34,
   "metadata": {},
   "outputs": [],
   "source": [
    "# test 데이터셋을 변환하는 함수\n",
    "def trans_test_dataset(x_df):\n",
    "    # 샘플의 개수\n",
    "    sample_cnt = test_x['sample_id'].nunique()\n",
    "    # 행의 개수\n",
    "    rows = 60\n",
    "    # 열의 개수\n",
    "    columns = 1320\n",
    "\n",
    "    x = pd.DataFrame(np.zeros([rows * sample_cnt, columns]))\n",
    "    \n",
    "    # 샘플 개수 만큼 실행\n",
    "    # test 데이터의 sample_id는 7661부터 시작\n",
    "    for sample_id in tqdm(range(sample_cnt)):\n",
    "        tmp = x_df.query(f'sample_id == {sample_id+7661}')\n",
    "        # 행의 개수 만큼 실행\n",
    "        for i in range(rows):  \n",
    "            x.iloc[sample_id*rows + i] = tmp.iloc[i:i+columns]['open'].values\n",
    "    \n",
    "    return x"
   ]
  },
  {
   "cell_type": "code",
   "execution_count": 35,
   "metadata": {},
   "outputs": [
    {
     "output_type": "stream",
     "name": "stderr",
     "text": "100%|██████████| 535/535 [00:17<00:00, 29.94it/s]\n"
    }
   ],
   "source": [
    "x_test = trans_test_dataset(test_x)"
   ]
  },
  {
   "cell_type": "code",
   "execution_count": 36,
   "metadata": {},
   "outputs": [
    {
     "output_type": "execute_result",
     "data": {
      "text/plain": "(32100, 1320)"
     },
     "metadata": {},
     "execution_count": 36
    }
   ],
   "source": [
    "x_test.shape"
   ]
  },
  {
   "cell_type": "markdown",
   "metadata": {},
   "source": [
    "# 학습 및 예측"
   ]
  },
  {
   "cell_type": "code",
   "execution_count": 26,
   "id": "certified-corporation",
   "metadata": {},
   "outputs": [
    {
     "output_type": "error",
     "ename": "NameError",
     "evalue": "name 'x_train' is not defined",
     "traceback": [
      "\u001b[0;31m---------------------------------------------------------------------------\u001b[0m",
      "\u001b[0;31mNameError\u001b[0m                                 Traceback (most recent call last)",
      "\u001b[0;32m<ipython-input-26-5d8a05a9f12f>\u001b[0m in \u001b[0;36m<module>\u001b[0;34m\u001b[0m\n\u001b[1;32m      1\u001b[0m \u001b[0mmodel\u001b[0m \u001b[0;34m=\u001b[0m \u001b[0mBaggingRegressor\u001b[0m\u001b[0;34m(\u001b[0m\u001b[0mLinearRegression\u001b[0m\u001b[0;34m(\u001b[0m\u001b[0;34m)\u001b[0m\u001b[0;34m)\u001b[0m\u001b[0;34m\u001b[0m\u001b[0;34m\u001b[0m\u001b[0m\n\u001b[0;32m----> 2\u001b[0;31m \u001b[0mmodel\u001b[0m\u001b[0;34m.\u001b[0m\u001b[0mfit\u001b[0m\u001b[0;34m(\u001b[0m\u001b[0mx_train\u001b[0m\u001b[0;34m,\u001b[0m \u001b[0my_train\u001b[0m\u001b[0;34m)\u001b[0m\u001b[0;34m\u001b[0m\u001b[0;34m\u001b[0m\u001b[0m\n\u001b[0m\u001b[1;32m      3\u001b[0m \u001b[0mpred\u001b[0m \u001b[0;34m=\u001b[0m \u001b[0mmodel\u001b[0m\u001b[0;34m.\u001b[0m\u001b[0mpredict\u001b[0m\u001b[0;34m(\u001b[0m\u001b[0mx_test\u001b[0m\u001b[0;34m)\u001b[0m\u001b[0;34m\u001b[0m\u001b[0;34m\u001b[0m\u001b[0m\n",
      "\u001b[0;31mNameError\u001b[0m: name 'x_train' is not defined"
     ]
    }
   ],
   "source": [
    "model = BaggingRegressor(LinearRegression())\n",
    "model.fit(x_train, y_train)\n",
    "pred = model.predict(x_test)"
   ]
  },
  {
   "cell_type": "markdown",
   "metadata": {},
   "source": [
    "# 제출용 데이터프레임 생성"
   ]
  },
  {
   "cell_type": "code",
   "execution_count": 27,
   "id": "varied-deployment",
   "metadata": {},
   "outputs": [
    {
     "output_type": "error",
     "ename": "NameError",
     "evalue": "name 'pred' is not defined",
     "traceback": [
      "\u001b[0;31m---------------------------------------------------------------------------\u001b[0m",
      "\u001b[0;31mNameError\u001b[0m                                 Traceback (most recent call last)",
      "\u001b[0;32m<ipython-input-27-f7902e28b49d>\u001b[0m in \u001b[0;36m<module>\u001b[0;34m\u001b[0m\n\u001b[1;32m      2\u001b[0m \u001b[0msubmission\u001b[0m\u001b[0;34m[\u001b[0m\u001b[0;34m'sample_id'\u001b[0m\u001b[0;34m]\u001b[0m \u001b[0;34m=\u001b[0m \u001b[0mrange\u001b[0m\u001b[0;34m(\u001b[0m\u001b[0mtrain_x\u001b[0m\u001b[0;34m[\u001b[0m\u001b[0;34m'sample_id'\u001b[0m\u001b[0;34m]\u001b[0m\u001b[0;34m.\u001b[0m\u001b[0mnunique\u001b[0m\u001b[0;34m(\u001b[0m\u001b[0;34m)\u001b[0m\u001b[0;34m,\u001b[0m \u001b[0mtrain_x\u001b[0m\u001b[0;34m[\u001b[0m\u001b[0;34m'sample_id'\u001b[0m\u001b[0;34m]\u001b[0m\u001b[0;34m.\u001b[0m\u001b[0mnunique\u001b[0m\u001b[0;34m(\u001b[0m\u001b[0;34m)\u001b[0m\u001b[0;34m+\u001b[0m\u001b[0mtest_x\u001b[0m\u001b[0;34m[\u001b[0m\u001b[0;34m'sample_id'\u001b[0m\u001b[0;34m]\u001b[0m\u001b[0;34m.\u001b[0m\u001b[0mnunique\u001b[0m\u001b[0;34m(\u001b[0m\u001b[0;34m)\u001b[0m\u001b[0;34m)\u001b[0m\u001b[0;34m\u001b[0m\u001b[0;34m\u001b[0m\u001b[0m\n\u001b[1;32m      3\u001b[0m \u001b[0msubmission\u001b[0m\u001b[0;34m[\u001b[0m\u001b[0;34m'buy_quantity'\u001b[0m\u001b[0;34m]\u001b[0m \u001b[0;34m=\u001b[0m \u001b[0;36m1\u001b[0m\u001b[0;34m\u001b[0m\u001b[0;34m\u001b[0m\u001b[0m\n\u001b[0;32m----> 4\u001b[0;31m \u001b[0msubmission\u001b[0m\u001b[0;34m[\u001b[0m\u001b[0;34m'sell_time'\u001b[0m\u001b[0;34m]\u001b[0m \u001b[0;34m=\u001b[0m \u001b[0mnp\u001b[0m\u001b[0;34m.\u001b[0m\u001b[0margmax\u001b[0m\u001b[0;34m(\u001b[0m\u001b[0mpred\u001b[0m\u001b[0;34m,\u001b[0m \u001b[0maxis\u001b[0m\u001b[0;34m=\u001b[0m\u001b[0;36m1\u001b[0m\u001b[0;34m)\u001b[0m\u001b[0;34m\u001b[0m\u001b[0;34m\u001b[0m\u001b[0m\n\u001b[0m\u001b[1;32m      5\u001b[0m \u001b[0msubmission\u001b[0m\u001b[0;34m\u001b[0m\u001b[0;34m\u001b[0m\u001b[0m\n",
      "\u001b[0;31mNameError\u001b[0m: name 'pred' is not defined"
     ]
    }
   ],
   "source": [
    "submission = pd.DataFrame()\n",
    "submission['sample_id'] = range(train_x['sample_id'].nunique(), train_x['sample_id'].nunique()+test_x['sample_id'].nunique())\n",
    "submission['buy_quantity'] = 1\n",
    "submission['sell_time'] = np.argmax(pred, axis=1)\n",
    "submission"
   ]
  },
  {
   "cell_type": "code",
   "execution_count": 28,
   "id": "molecular-leone",
   "metadata": {},
   "outputs": [],
   "source": [
    "# submission.to_csv('submission_linear.csv', index=False)"
   ]
  }
 ],
 "metadata": {
  "kernelspec": {
   "display_name": "Python 3",
   "language": "python",
   "name": "python3"
  },
  "language_info": {
   "codemirror_mode": {
    "name": "ipython",
    "version": 3
   },
   "file_extension": ".py",
   "mimetype": "text/x-python",
   "name": "python",
   "nbconvert_exporter": "python",
   "pygments_lexer": "ipython3",
   "version": "3.9.5-final"
  }
 },
 "nbformat": 4,
 "nbformat_minor": 5
}