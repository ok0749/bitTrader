{
 "cells": [
  {
   "cell_type": "code",
   "execution_count": 1,
   "id": "differential-equality",
   "metadata": {},
   "outputs": [],
   "source": [
    "import pandas as pd\n",
    "import numpy as np\n",
    "from tqdm import tqdm\n",
    "import time\n",
    "from sklearn.linear_model import LinearRegression\n",
    "from sklearn.ensemble import BaggingRegressor\n",
    "from joblib import dump"
   ]
  },
  {
   "cell_type": "markdown",
   "metadata": {},
   "source": [
    "# 데이터 불러오기"
   ]
  },
  {
   "cell_type": "code",
   "execution_count": 2,
   "id": "orange-identity",
   "metadata": {},
   "outputs": [],
   "source": [
    "train_x = pd.read_csv('./data/train_x_df.csv')\n",
    "test_x = pd.read_csv('./data/test_x_df.csv')\n",
    "train_y = pd.read_csv('./data/train_y_df.csv')"
   ]
  },
  {
   "cell_type": "markdown",
   "metadata": {},
   "source": [
    "# 데이터 전처리\n",
    "- 과거 1260분 데이터로 미래 1분을 예측하도록 하여 샘플당 120개의 행을 가지도록 전처리하여 학습 시키려 했으나 메모리 문제로 1320분 데이터로 2분을 예측하도록 했습니다.\n",
    "- 과거 1320분 데이터로 미래 2분을 예측하도록 각 샘플의 x, y 데이터를 변환합니다. \n",
    "- ex) 0 ~ 1319분으로 0 ~ 1분 예측, 1 ~ 1320분으로 2 ~ 3분 예측, ...\n",
    "- x: (1, 1380) -> (60, 1320)\n",
    "- y: (1, 120) -> (60, 2)"
   ]
  },
  {
   "cell_type": "code",
   "execution_count": 3,
   "id": "vital-packing",
   "metadata": {},
   "outputs": [],
   "source": [
    "# train 데이터셋을 변환하는 함수\n",
    "def trans_train_dataset(x_df, y_df):\n",
    "    # 샘플의 개수\n",
    "    sample_cnt = train_x['sample_id'].nunique()\n",
    "    # 행의 개수\n",
    "    rows = 60\n",
    "    # 열의 개수\n",
    "    columns = 1320\n",
    "    # 2분 예측\n",
    "    pred_minutes = 2\n",
    "\n",
    "    x = pd.DataFrame(np.zeros([rows * sample_cnt, columns]))\n",
    "    y = pd.DataFrame(np.zeros([rows * sample_cnt, pred_minutes])) \n",
    "    \n",
    "    # 샘플 개수 만큼 실행\n",
    "    for sample_id in tqdm(range(sample_cnt)):\n",
    "        tmp = x_df.query(f'sample_id == {sample_id}')\n",
    "        # 행의 개수 만큼 실행\n",
    "        for i in range(rows):  \n",
    "            x.iloc[sample_id*rows + i] = tmp.iloc[i:i+columns]['open'].values\n",
    "        y.iloc[sample_id*rows:sample_id*rows+rows, :] = np.array(y_df.query(f'sample_id == {sample_id}')['open']).reshape(rows, -1)\n",
    "    \n",
    "    return x, y"
   ]
  },
  {
   "cell_type": "code",
   "execution_count": 4,
   "id": "molecular-virtue",
   "metadata": {},
   "outputs": [
    {
     "output_type": "stream",
     "name": "stderr",
     "text": "100%|██████████| 7661/7661 [14:17<00:00,  8.93it/s]\n"
    }
   ],
   "source": [
    "x_train, y_train = trans_train_dataset(train_x, train_y)"
   ]
  },
  {
   "cell_type": "code",
   "execution_count": 5,
   "id": "graphic-trust",
   "metadata": {},
   "outputs": [
    {
     "output_type": "execute_result",
     "data": {
      "text/plain": "((459660, 1320), (459660, 2))"
     },
     "metadata": {},
     "execution_count": 5
    }
   ],
   "source": [
    "x_train.shape, y_train.shape"
   ]
  },
  {
   "cell_type": "code",
   "execution_count": 6,
   "metadata": {},
   "outputs": [
    {
     "output_type": "execute_result",
     "data": {
      "text/plain": "535"
     },
     "metadata": {},
     "execution_count": 6
    }
   ],
   "source": [
    "test_x['sample_id'].nunique()"
   ]
  },
  {
   "cell_type": "code",
   "execution_count": 7,
   "metadata": {},
   "outputs": [],
   "source": [
    "# test 데이터셋을 변환하는 함수\n",
    "def trans_test_dataset(x_df):\n",
    "    # 샘플의 개수\n",
    "    sample_cnt = test_x['sample_id'].nunique()\n",
    "    # 행의 개수\n",
    "    rows = 60\n",
    "    # 열의 개수\n",
    "    columns = 1320\n",
    "\n",
    "    x = pd.DataFrame(np.zeros([rows * sample_cnt, columns]))\n",
    "    \n",
    "    # 샘플 개수 만큼 실행\n",
    "    # test 데이터의 sample_id는 7661부터 시작\n",
    "    for sample_id in tqdm(range(sample_cnt)):\n",
    "        tmp = x_df.query(f'sample_id == {sample_id+7661}')\n",
    "        # 행의 개수 만큼 실행\n",
    "        for i in range(rows):  \n",
    "            x.iloc[sample_id*rows + i] = tmp.iloc[i:i+columns]['open'].values\n",
    "    \n",
    "    return x"
   ]
  },
  {
   "cell_type": "code",
   "execution_count": 8,
   "metadata": {},
   "outputs": [
    {
     "output_type": "stream",
     "name": "stderr",
     "text": "100%|██████████| 535/535 [00:16<00:00, 33.24it/s]\n"
    }
   ],
   "source": [
    "x_test = trans_test_dataset(test_x)"
   ]
  },
  {
   "cell_type": "code",
   "execution_count": 9,
   "metadata": {},
   "outputs": [
    {
     "output_type": "execute_result",
     "data": {
      "text/plain": "(32100, 1320)"
     },
     "metadata": {},
     "execution_count": 9
    }
   ],
   "source": [
    "x_test.shape"
   ]
  },
  {
   "cell_type": "markdown",
   "metadata": {},
   "source": [
    "# 학습 및 예측"
   ]
  },
  {
   "cell_type": "code",
   "execution_count": 10,
   "id": "certified-corporation",
   "metadata": {},
   "outputs": [],
   "source": [
    "model = BaggingRegressor(LinearRegression())\n",
    "model.fit(x_train, y_train)\n",
    "pred = model.predict(x_test)"
   ]
  },
  {
   "cell_type": "code",
   "execution_count": 14,
   "metadata": {},
   "outputs": [],
   "source": [
    "answer = pred.reshape(535, 120)"
   ]
  },
  {
   "cell_type": "markdown",
   "metadata": {},
   "source": [
    "# 제출용 데이터프레임 생성"
   ]
  },
  {
   "cell_type": "code",
   "execution_count": 15,
   "id": "varied-deployment",
   "metadata": {},
   "outputs": [
    {
     "output_type": "execute_result",
     "data": {
      "text/plain": "     sample_id  buy_quantity  sell_time\n0         7661             1          0\n1         7662             1        113\n2         7663             1         54\n3         7664             1        115\n4         7665             1         85\n..         ...           ...        ...\n530       8191             1          4\n531       8192             1         10\n532       8193             1         61\n533       8194             1         49\n534       8195             1        100\n\n[535 rows x 3 columns]",
      "text/html": "<div>\n<style scoped>\n    .dataframe tbody tr th:only-of-type {\n        vertical-align: middle;\n    }\n\n    .dataframe tbody tr th {\n        vertical-align: top;\n    }\n\n    .dataframe thead th {\n        text-align: right;\n    }\n</style>\n<table border=\"1\" class=\"dataframe\">\n  <thead>\n    <tr style=\"text-align: right;\">\n      <th></th>\n      <th>sample_id</th>\n      <th>buy_quantity</th>\n      <th>sell_time</th>\n    </tr>\n  </thead>\n  <tbody>\n    <tr>\n      <th>0</th>\n      <td>7661</td>\n      <td>1</td>\n      <td>0</td>\n    </tr>\n    <tr>\n      <th>1</th>\n      <td>7662</td>\n      <td>1</td>\n      <td>113</td>\n    </tr>\n    <tr>\n      <th>2</th>\n      <td>7663</td>\n      <td>1</td>\n      <td>54</td>\n    </tr>\n    <tr>\n      <th>3</th>\n      <td>7664</td>\n      <td>1</td>\n      <td>115</td>\n    </tr>\n    <tr>\n      <th>4</th>\n      <td>7665</td>\n      <td>1</td>\n      <td>85</td>\n    </tr>\n    <tr>\n      <th>...</th>\n      <td>...</td>\n      <td>...</td>\n      <td>...</td>\n    </tr>\n    <tr>\n      <th>530</th>\n      <td>8191</td>\n      <td>1</td>\n      <td>4</td>\n    </tr>\n    <tr>\n      <th>531</th>\n      <td>8192</td>\n      <td>1</td>\n      <td>10</td>\n    </tr>\n    <tr>\n      <th>532</th>\n      <td>8193</td>\n      <td>1</td>\n      <td>61</td>\n    </tr>\n    <tr>\n      <th>533</th>\n      <td>8194</td>\n      <td>1</td>\n      <td>49</td>\n    </tr>\n    <tr>\n      <th>534</th>\n      <td>8195</td>\n      <td>1</td>\n      <td>100</td>\n    </tr>\n  </tbody>\n</table>\n<p>535 rows × 3 columns</p>\n</div>"
     },
     "metadata": {},
     "execution_count": 15
    }
   ],
   "source": [
    "submission = pd.DataFrame()\n",
    "submission['sample_id'] = range(train_x['sample_id'].nunique(), train_x['sample_id'].nunique()+test_x['sample_id'].nunique())\n",
    "submission['buy_quantity'] = 1\n",
    "submission['sell_time'] = np.argmax(answer, axis=1)\n",
    "submission"
   ]
  },
  {
   "cell_type": "code",
   "execution_count": 16,
   "id": "molecular-leone",
   "metadata": {},
   "outputs": [],
   "source": [
    "# submission.to_csv('submission_linear.csv', index=False)"
   ]
  }
 ],
 "metadata": {
  "kernelspec": {
   "display_name": "Python 3",
   "language": "python",
   "name": "python3"
  },
  "language_info": {
   "codemirror_mode": {
    "name": "ipython",
    "version": 3
   },
   "file_extension": ".py",
   "mimetype": "text/x-python",
   "name": "python",
   "nbconvert_exporter": "python",
   "pygments_lexer": "ipython3",
   "version": "3.9.5-final"
  }
 },
 "nbformat": 4,
 "nbformat_minor": 5
}